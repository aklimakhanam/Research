{
 "cells": [
  {
   "cell_type": "code",
   "execution_count": 1,
   "id": "c3ad6803",
   "metadata": {},
   "outputs": [],
   "source": [
    "import matplotlib as mpl\n",
    "import matplotlib.pyplot as plt\n",
    "import numpy as np\n",
    "import os\n",
    "import re\n",
    "from itertools import repeat\n",
    "\n",
    "from snewpy import snowglobes\n",
    "from astropy import units as u\n",
    "from snewpy.neutrino import Flavor, MassHierarchy, MixingParameters\n",
    "from snewpy.models.ccsn import *\n",
    "from snewpy.flavor_transformation import AdiabaticMSW\n",
    "\n",
    "SNOwGLoBES_path = \"/home/aklima/Desktop/snowglobes\"\n",
    "SNEWPY_models_base = \"/home/aklima/Desktop/SNEWPY_models\"\n",
    "\n",
    "distance = 1.0\n",
    "detector = \"ar40kt\"\n",
    "transformation = 'AdiabaticMSW_NMO'\n",
    "\n",
    "\n",
    "window_tstart = 0.51\n",
    "window_tend = 1.9\n",
    "window_bins = 18\n",
    "\n",
    "window_tstart_burst = 0.1 \n",
    "window_tend_burst = 0.5\n",
    "window_bins_burst = 20\n",
    "\n",
    "\n",
    "tstart = np.linspace(window_tstart, window_tend, window_bins, endpoint=False) \n",
    "tend = tstart + (window_tend - window_tstart) / window_bins \n",
    "tmid = (tstart + tend) * 0.5 \n",
    "\n",
    "tstart_burst = np.linspace(window_tstart_burst, window_tend_burst, window_bins_burst, endpoint=False) \n",
    "tend_burst = tstart_burst + (window_tend_burst - window_tstart_burst) / window_bins_burst \n",
    "tmid_burst = (tstart_burst + tend_burst) * 0.5 \n",
    "\n",
    "tstart = np.append(tstart_burst, tstart)\n",
    "tend = np.append(tend_burst, tend)\n"
   ]
  },
  {
   "cell_type": "code",
   "execution_count": 2,
   "id": "96bdb77a",
   "metadata": {},
   "outputs": [
    {
     "name": "stdout",
     "output_type": "stream",
     "text": [
      "Preparing fluences ...\n"
     ]
    }
   ],
   "source": [
    "matrix = [['Fornax_2021', 'lum_spec_16M_r10000_dat.h5'],\n",
    "         ['Sukhbold_2015', 'sukhbold-LS220-s27.0.fits']]\n",
    "# change these to choose model to use\n",
    "modeltype = matrix[0][0]\n",
    "model = matrix[0][1]\n",
    "# absolute paths to new folders - change these too\n",
    "new_dir_fluence = \"/home/aklima/Desktop/Lima\"\n",
    "new_dir_interactions = \"/home/aklima/Desktop/Lima\"\n",
    "\n",
    "\n",
    "\n",
    "modelfile = SNEWPY_models_base + \"/\" + modeltype + \"/\" + model \n",
    "outfile = modeltype+\"_\"+model+\"_\"+transformation\n",
    "\n",
    "\n",
    "    # snowglobes.generate_fluence integrates the model over the specified time window(s)\n",
    "    # and generates input files for SNOwGLoBES. It returns the full file path of the output file.\n",
    "print(\"Preparing fluences ...\")\n",
    "tarredfile = snowglobes.generate_fluence(modelfile, modeltype, transformation, distance, outfile, tstart * u.s, tend * u.s)\n",
    "\n"
   ]
  },
  {
   "cell_type": "code",
   "execution_count": 3,
   "id": "232d06ec",
   "metadata": {},
   "outputs": [
    {
     "name": "stdout",
     "output_type": "stream",
     "text": [
      "Running SNOwGLoBES ...\n"
     ]
    },
    {
     "data": {
      "application/vnd.jupyter.widget-view+json": {
       "model_id": "",
       "version_major": 2,
       "version_minor": 0
      },
      "text/plain": [
       "Detectors:   0%|          | 0/1 [00:00<?, ?it/s]"
      ]
     },
     "metadata": {},
     "output_type": "display_data"
    },
    {
     "data": {
      "application/vnd.jupyter.widget-view+json": {
       "model_id": "",
       "version_major": 2,
       "version_minor": 0
      },
      "text/plain": [
       "Flux files:   0%|          | 0/38 [00:00<?, ?it/s]"
      ]
     },
     "metadata": {},
     "output_type": "display_data"
    }
   ],
   "source": [
    "    # Next, we run SNOwGLoBES. This will loop over all the fluence files in `tarredfile`.\n",
    "print(\"Running SNOwGLoBES ...\")\n",
    "#sim = snowglobes.simulate(SNOwGLoBES_path, tarredfile, detector_input=detector)\n",
    "\n",
    "sim = snowglobes.simulate(SNOwGLoBES_path, tarredfile, detector_input=\"ar40kt\")\n"
   ]
  },
  {
   "cell_type": "code",
   "execution_count": 4,
   "id": "5c59ce36",
   "metadata": {},
   "outputs": [
    {
     "name": "stdout",
     "output_type": "stream",
     "text": [
      "Collating results ...\n",
      "Done\n",
      "\n",
      "Copy these for interactions \n",
      "\n",
      "cd /home/aklima/Desktop/Lima\n",
      "mv /home/aklima/Desktop/SNEWPY_models/Fornax_2021/Fornax_2021_lum_spec_16M_r10000_dat.h5_AdiabaticMSW_NMO_SNOprocessed.tar.gz .\n",
      "tar -xf Fornax_2021_lum_spec_16M_r10000_dat.h5_AdiabaticMSW_NMO_SNOprocessed.tar.gz\n",
      "\n",
      "Copy these for fluence \n",
      "\n",
      "cd /home/aklima/Desktop/Lima\n",
      "mv /home/aklima/Desktop/SNEWPY_models/Fornax_2021/Fornax_2021_lum_spec_16M_r10000_dat.h5_AdiabaticMSW_NMO.tar.bz2 .\n",
      "tar -xf Fornax_2021_lum_spec_16M_r10000_dat.h5_AdiabaticMSW_NMO.tar.bz2\n",
      "rm parameterinfo\n",
      "rm Fornax_2021_lum_spec_16M_r10000_dat.h5_AdiabaticMSW_NMO.tar.bz2\n"
     ]
    }
   ],
   "source": [
    "\n",
    "    # Finally, we collate SNOwGLoBES’ results into a dictionary\n",
    "print(\"Collating results ...\")\n",
    "tables = snowglobes.collate(SNOwGLoBES_path, tarredfile, skip_plots=True)\n",
    "print(\"Done\\n\")\n",
    "\n",
    "\n",
    "## commands to move and unpack folders\n",
    "print(\"Copy these for interactions \\n\")\n",
    "print(f\"cd {new_dir_interactions}\")\n",
    "print(\"mv \" + SNEWPY_models_base + \"/\" + modeltype + \"/\" + outfile + f\"_SNOprocessed.tar.gz .\")\n",
    "print(\"tar -xf \" + outfile + \"_SNOprocessed.tar.gz\\n\")\n",
    "\n",
    "print(\"Copy these for fluence \\n\")\n",
    "print(f\"cd {new_dir_fluence}\")\n",
    "print(\"mv \" + SNEWPY_models_base + \"/\" + modeltype + \"/\" + outfile + f\".tar.bz2 .\") \n",
    "print(\"tar -xf \" + outfile + \".tar.bz2\")\n",
    "print(\"rm parameterinfo\")\n",
    "print(\"rm \" + outfile + \".tar.bz2\")"
   ]
  },
  {
   "cell_type": "code",
   "execution_count": null,
   "id": "835bd3ca",
   "metadata": {},
   "outputs": [],
   "source": []
  }
 ],
 "metadata": {
  "kernelspec": {
   "display_name": "Python 3 (ipykernel)",
   "language": "python",
   "name": "python3"
  },
  "language_info": {
   "codemirror_mode": {
    "name": "ipython",
    "version": 3
   },
   "file_extension": ".py",
   "mimetype": "text/x-python",
   "name": "python",
   "nbconvert_exporter": "python",
   "pygments_lexer": "ipython3",
   "version": "3.9.13"
  }
 },
 "nbformat": 4,
 "nbformat_minor": 5
}
